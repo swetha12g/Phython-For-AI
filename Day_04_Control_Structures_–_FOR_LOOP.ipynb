{
  "nbformat": 4,
  "nbformat_minor": 0,
  "metadata": {
    "colab": {
      "provenance": [],
      "authorship_tag": "ABX9TyPTGJWcsC+TflKEjUYsrGL6",
      "include_colab_link": true
    },
    "kernelspec": {
      "name": "python3",
      "display_name": "Python 3"
    },
    "language_info": {
      "name": "python"
    }
  },
  "cells": [
    {
      "cell_type": "markdown",
      "metadata": {
        "id": "view-in-github",
        "colab_type": "text"
      },
      "source": [
        "<a href=\"https://colab.research.google.com/github/swetha12g/Phython-For-AI/blob/Develop/Day_04_Control_Structures_%E2%80%93_FOR_LOOP.ipynb\" target=\"_parent\"><img src=\"https://colab.research.google.com/assets/colab-badge.svg\" alt=\"Open In Colab\"/></a>"
      ]
    },
    {
      "cell_type": "code",
      "execution_count": null,
      "metadata": {
        "id": "0pf-tdYPqmXB"
      },
      "outputs": [],
      "source": [
        "# for range(start, end), in\n",
        "# by default start = 0, range(10, 20), range(20)"
      ]
    },
    {
      "cell_type": "code",
      "source": [
        "for i in range(1, 10):\n",
        "  print(i)"
      ],
      "metadata": {
        "colab": {
          "base_uri": "https://localhost:8080/"
        },
        "id": "bm2L-9xQqrRW",
        "outputId": "a5f2e3f8-6043-4144-8daf-0a1ed3c416e4"
      },
      "execution_count": null,
      "outputs": [
        {
          "output_type": "stream",
          "name": "stdout",
          "text": [
            "1\n",
            "2\n",
            "3\n",
            "4\n",
            "5\n",
            "6\n",
            "7\n",
            "8\n",
            "9\n"
          ]
        }
      ]
    },
    {
      "cell_type": "code",
      "source": [
        "for i in range(1, 11):\n",
        "  print(i)"
      ],
      "metadata": {
        "colab": {
          "base_uri": "https://localhost:8080/"
        },
        "id": "GGI90Ok2qrHg",
        "outputId": "63e6c64c-4795-4910-e35d-61fde4a80f9a"
      },
      "execution_count": null,
      "outputs": [
        {
          "output_type": "stream",
          "name": "stdout",
          "text": [
            "1\n",
            "2\n",
            "3\n",
            "4\n",
            "5\n",
            "6\n",
            "7\n",
            "8\n",
            "9\n",
            "10\n"
          ]
        }
      ]
    },
    {
      "cell_type": "code",
      "source": [
        "for i in range(11):\n",
        "  print(i)"
      ],
      "metadata": {
        "colab": {
          "base_uri": "https://localhost:8080/"
        },
        "id": "2j-viIKsqrAG",
        "outputId": "2a53c9e3-59f5-4d78-d6c1-dd1f908c2848"
      },
      "execution_count": null,
      "outputs": [
        {
          "output_type": "stream",
          "name": "stdout",
          "text": [
            "0\n",
            "1\n",
            "2\n",
            "3\n",
            "4\n",
            "5\n",
            "6\n",
            "7\n",
            "8\n",
            "9\n",
            "10\n"
          ]
        }
      ]
    },
    {
      "cell_type": "code",
      "source": [
        "# for i in range(100):\n",
        "#   print(i)"
      ],
      "metadata": {
        "id": "1qNtrBzeqq3m"
      },
      "execution_count": null,
      "outputs": []
    },
    {
      "cell_type": "code",
      "source": [
        "# n/10 ==> remainder of 0"
      ],
      "metadata": {
        "id": "NTVFReBOu1Mx"
      },
      "execution_count": null,
      "outputs": []
    },
    {
      "cell_type": "code",
      "source": [
        "num = 60\n",
        "\n",
        "if (num%10) == 0:\n",
        "  print(num)\n",
        "else:\n",
        "  print(\"\")"
      ],
      "metadata": {
        "colab": {
          "base_uri": "https://localhost:8080/"
        },
        "id": "rDr7tWPCu1Cw",
        "outputId": "b21b78ce-37e8-45e6-f9de-520df48ea92f"
      },
      "execution_count": null,
      "outputs": [
        {
          "output_type": "stream",
          "name": "stdout",
          "text": [
            "60\n"
          ]
        }
      ]
    },
    {
      "cell_type": "code",
      "source": [
        "num = 61\n",
        "\n",
        "if (num%10) == 0:\n",
        "  print(num)\n",
        "else:\n",
        "  print(\"\")"
      ],
      "metadata": {
        "colab": {
          "base_uri": "https://localhost:8080/"
        },
        "id": "QvUXVMbKvZPm",
        "outputId": "25503785-903f-4fd0-cfa1-9aed8dcedf1e"
      },
      "execution_count": null,
      "outputs": [
        {
          "output_type": "stream",
          "name": "stdout",
          "text": [
            "\n"
          ]
        }
      ]
    },
    {
      "cell_type": "code",
      "source": [
        "for i in range(100):\n",
        "  if (i%10) == 0:\n",
        "    print(i)\n",
        "  else:\n",
        "    print(\"\")"
      ],
      "metadata": {
        "colab": {
          "base_uri": "https://localhost:8080/"
        },
        "id": "zzIKZagjvZFw",
        "outputId": "c6569c34-f206-4609-e59f-9053ba32ef0d"
      },
      "execution_count": null,
      "outputs": [
        {
          "output_type": "stream",
          "name": "stdout",
          "text": [
            "0\n",
            "\n",
            "\n",
            "\n",
            "\n",
            "\n",
            "\n",
            "\n",
            "\n",
            "\n",
            "10\n",
            "\n",
            "\n",
            "\n",
            "\n",
            "\n",
            "\n",
            "\n",
            "\n",
            "\n",
            "20\n",
            "\n",
            "\n",
            "\n",
            "\n",
            "\n",
            "\n",
            "\n",
            "\n",
            "\n",
            "30\n",
            "\n",
            "\n",
            "\n",
            "\n",
            "\n",
            "\n",
            "\n",
            "\n",
            "\n",
            "40\n",
            "\n",
            "\n",
            "\n",
            "\n",
            "\n",
            "\n",
            "\n",
            "\n",
            "\n",
            "50\n",
            "\n",
            "\n",
            "\n",
            "\n",
            "\n",
            "\n",
            "\n",
            "\n",
            "\n",
            "60\n",
            "\n",
            "\n",
            "\n",
            "\n",
            "\n",
            "\n",
            "\n",
            "\n",
            "\n",
            "70\n",
            "\n",
            "\n",
            "\n",
            "\n",
            "\n",
            "\n",
            "\n",
            "\n",
            "\n",
            "80\n",
            "\n",
            "\n",
            "\n",
            "\n",
            "\n",
            "\n",
            "\n",
            "\n",
            "\n",
            "90\n",
            "\n",
            "\n",
            "\n",
            "\n",
            "\n",
            "\n",
            "\n",
            "\n",
            "\n"
          ]
        }
      ]
    },
    {
      "cell_type": "code",
      "source": [
        "for i in range(100):\n",
        "  if (i%10) == 0:\n",
        "    print(i)\n",
        "  else:\n",
        "    print(\"not divisible\")"
      ],
      "metadata": {
        "colab": {
          "base_uri": "https://localhost:8080/"
        },
        "id": "L_yvaKqsvY2g",
        "outputId": "7223a588-5053-41de-9403-381bf2022bb5"
      },
      "execution_count": null,
      "outputs": [
        {
          "output_type": "stream",
          "name": "stdout",
          "text": [
            "0\n",
            "not divisible\n",
            "not divisible\n",
            "not divisible\n",
            "not divisible\n",
            "not divisible\n",
            "not divisible\n",
            "not divisible\n",
            "not divisible\n",
            "not divisible\n",
            "10\n",
            "not divisible\n",
            "not divisible\n",
            "not divisible\n",
            "not divisible\n",
            "not divisible\n",
            "not divisible\n",
            "not divisible\n",
            "not divisible\n",
            "not divisible\n",
            "20\n",
            "not divisible\n",
            "not divisible\n",
            "not divisible\n",
            "not divisible\n",
            "not divisible\n",
            "not divisible\n",
            "not divisible\n",
            "not divisible\n",
            "not divisible\n",
            "30\n",
            "not divisible\n",
            "not divisible\n",
            "not divisible\n",
            "not divisible\n",
            "not divisible\n",
            "not divisible\n",
            "not divisible\n",
            "not divisible\n",
            "not divisible\n",
            "40\n",
            "not divisible\n",
            "not divisible\n",
            "not divisible\n",
            "not divisible\n",
            "not divisible\n",
            "not divisible\n",
            "not divisible\n",
            "not divisible\n",
            "not divisible\n",
            "50\n",
            "not divisible\n",
            "not divisible\n",
            "not divisible\n",
            "not divisible\n",
            "not divisible\n",
            "not divisible\n",
            "not divisible\n",
            "not divisible\n",
            "not divisible\n",
            "60\n",
            "not divisible\n",
            "not divisible\n",
            "not divisible\n",
            "not divisible\n",
            "not divisible\n",
            "not divisible\n",
            "not divisible\n",
            "not divisible\n",
            "not divisible\n",
            "70\n",
            "not divisible\n",
            "not divisible\n",
            "not divisible\n",
            "not divisible\n",
            "not divisible\n",
            "not divisible\n",
            "not divisible\n",
            "not divisible\n",
            "not divisible\n",
            "80\n",
            "not divisible\n",
            "not divisible\n",
            "not divisible\n",
            "not divisible\n",
            "not divisible\n",
            "not divisible\n",
            "not divisible\n",
            "not divisible\n",
            "not divisible\n",
            "90\n",
            "not divisible\n",
            "not divisible\n",
            "not divisible\n",
            "not divisible\n",
            "not divisible\n",
            "not divisible\n",
            "not divisible\n",
            "not divisible\n",
            "not divisible\n"
          ]
        }
      ]
    },
    {
      "cell_type": "code",
      "source": [
        "for i in range(100):\n",
        "  if (i%10) == 0:\n",
        "    print(\"divisible: \", i)\n",
        "  else:\n",
        "    print(\"not divisible: \", i)"
      ],
      "metadata": {
        "colab": {
          "base_uri": "https://localhost:8080/"
        },
        "id": "17yepppAvYrl",
        "outputId": "a967dfae-606d-4851-b733-ba6443d81cb4"
      },
      "execution_count": null,
      "outputs": [
        {
          "output_type": "stream",
          "name": "stdout",
          "text": [
            "divisible:  0\n",
            "not divisible:  1\n",
            "not divisible:  2\n",
            "not divisible:  3\n",
            "not divisible:  4\n",
            "not divisible:  5\n",
            "not divisible:  6\n",
            "not divisible:  7\n",
            "not divisible:  8\n",
            "not divisible:  9\n",
            "divisible:  10\n",
            "not divisible:  11\n",
            "not divisible:  12\n",
            "not divisible:  13\n",
            "not divisible:  14\n",
            "not divisible:  15\n",
            "not divisible:  16\n",
            "not divisible:  17\n",
            "not divisible:  18\n",
            "not divisible:  19\n",
            "divisible:  20\n",
            "not divisible:  21\n",
            "not divisible:  22\n",
            "not divisible:  23\n",
            "not divisible:  24\n",
            "not divisible:  25\n",
            "not divisible:  26\n",
            "not divisible:  27\n",
            "not divisible:  28\n",
            "not divisible:  29\n",
            "divisible:  30\n",
            "not divisible:  31\n",
            "not divisible:  32\n",
            "not divisible:  33\n",
            "not divisible:  34\n",
            "not divisible:  35\n",
            "not divisible:  36\n",
            "not divisible:  37\n",
            "not divisible:  38\n",
            "not divisible:  39\n",
            "divisible:  40\n",
            "not divisible:  41\n",
            "not divisible:  42\n",
            "not divisible:  43\n",
            "not divisible:  44\n",
            "not divisible:  45\n",
            "not divisible:  46\n",
            "not divisible:  47\n",
            "not divisible:  48\n",
            "not divisible:  49\n",
            "divisible:  50\n",
            "not divisible:  51\n",
            "not divisible:  52\n",
            "not divisible:  53\n",
            "not divisible:  54\n",
            "not divisible:  55\n",
            "not divisible:  56\n",
            "not divisible:  57\n",
            "not divisible:  58\n",
            "not divisible:  59\n",
            "divisible:  60\n",
            "not divisible:  61\n",
            "not divisible:  62\n",
            "not divisible:  63\n",
            "not divisible:  64\n",
            "not divisible:  65\n",
            "not divisible:  66\n",
            "not divisible:  67\n",
            "not divisible:  68\n",
            "not divisible:  69\n",
            "divisible:  70\n",
            "not divisible:  71\n",
            "not divisible:  72\n",
            "not divisible:  73\n",
            "not divisible:  74\n",
            "not divisible:  75\n",
            "not divisible:  76\n",
            "not divisible:  77\n",
            "not divisible:  78\n",
            "not divisible:  79\n",
            "divisible:  80\n",
            "not divisible:  81\n",
            "not divisible:  82\n",
            "not divisible:  83\n",
            "not divisible:  84\n",
            "not divisible:  85\n",
            "not divisible:  86\n",
            "not divisible:  87\n",
            "not divisible:  88\n",
            "not divisible:  89\n",
            "divisible:  90\n",
            "not divisible:  91\n",
            "not divisible:  92\n",
            "not divisible:  93\n",
            "not divisible:  94\n",
            "not divisible:  95\n",
            "not divisible:  96\n",
            "not divisible:  97\n",
            "not divisible:  98\n",
            "not divisible:  99\n"
          ]
        }
      ]
    },
    {
      "cell_type": "code",
      "source": [
        "for i in range(100):\n",
        "  if (i%20) == 0:\n",
        "    print(\"divisible: \", i)\n",
        "  else:\n",
        "    print(\"not divisible: \", i)"
      ],
      "metadata": {
        "colab": {
          "base_uri": "https://localhost:8080/"
        },
        "id": "s3_9NdzexECu",
        "outputId": "88f59d7c-cd8c-47d5-c07e-0d2304e2372f"
      },
      "execution_count": null,
      "outputs": [
        {
          "output_type": "stream",
          "name": "stdout",
          "text": [
            "divisible:  0\n",
            "not divisible:  1\n",
            "not divisible:  2\n",
            "not divisible:  3\n",
            "not divisible:  4\n",
            "not divisible:  5\n",
            "not divisible:  6\n",
            "not divisible:  7\n",
            "not divisible:  8\n",
            "not divisible:  9\n",
            "not divisible:  10\n",
            "not divisible:  11\n",
            "not divisible:  12\n",
            "not divisible:  13\n",
            "not divisible:  14\n",
            "not divisible:  15\n",
            "not divisible:  16\n",
            "not divisible:  17\n",
            "not divisible:  18\n",
            "not divisible:  19\n",
            "divisible:  20\n",
            "not divisible:  21\n",
            "not divisible:  22\n",
            "not divisible:  23\n",
            "not divisible:  24\n",
            "not divisible:  25\n",
            "not divisible:  26\n",
            "not divisible:  27\n",
            "not divisible:  28\n",
            "not divisible:  29\n",
            "not divisible:  30\n",
            "not divisible:  31\n",
            "not divisible:  32\n",
            "not divisible:  33\n",
            "not divisible:  34\n",
            "not divisible:  35\n",
            "not divisible:  36\n",
            "not divisible:  37\n",
            "not divisible:  38\n",
            "not divisible:  39\n",
            "divisible:  40\n",
            "not divisible:  41\n",
            "not divisible:  42\n",
            "not divisible:  43\n",
            "not divisible:  44\n",
            "not divisible:  45\n",
            "not divisible:  46\n",
            "not divisible:  47\n",
            "not divisible:  48\n",
            "not divisible:  49\n",
            "not divisible:  50\n",
            "not divisible:  51\n",
            "not divisible:  52\n",
            "not divisible:  53\n",
            "not divisible:  54\n",
            "not divisible:  55\n",
            "not divisible:  56\n",
            "not divisible:  57\n",
            "not divisible:  58\n",
            "not divisible:  59\n",
            "divisible:  60\n",
            "not divisible:  61\n",
            "not divisible:  62\n",
            "not divisible:  63\n",
            "not divisible:  64\n",
            "not divisible:  65\n",
            "not divisible:  66\n",
            "not divisible:  67\n",
            "not divisible:  68\n",
            "not divisible:  69\n",
            "not divisible:  70\n",
            "not divisible:  71\n",
            "not divisible:  72\n",
            "not divisible:  73\n",
            "not divisible:  74\n",
            "not divisible:  75\n",
            "not divisible:  76\n",
            "not divisible:  77\n",
            "not divisible:  78\n",
            "not divisible:  79\n",
            "divisible:  80\n",
            "not divisible:  81\n",
            "not divisible:  82\n",
            "not divisible:  83\n",
            "not divisible:  84\n",
            "not divisible:  85\n",
            "not divisible:  86\n",
            "not divisible:  87\n",
            "not divisible:  88\n",
            "not divisible:  89\n",
            "not divisible:  90\n",
            "not divisible:  91\n",
            "not divisible:  92\n",
            "not divisible:  93\n",
            "not divisible:  94\n",
            "not divisible:  95\n",
            "not divisible:  96\n",
            "not divisible:  97\n",
            "not divisible:  98\n",
            "not divisible:  99\n"
          ]
        }
      ]
    }
  ]
}
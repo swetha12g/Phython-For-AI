{
  "nbformat": 4,
  "nbformat_minor": 0,
  "metadata": {
    "colab": {
      "provenance": [],
      "authorship_tag": "ABX9TyM4YUqQJSp12Jj5gghlobWy",
      "include_colab_link": true
    },
    "kernelspec": {
      "name": "python3",
      "display_name": "Python 3"
    },
    "language_info": {
      "name": "python"
    }
  },
  "cells": [
    {
      "cell_type": "markdown",
      "metadata": {
        "id": "view-in-github",
        "colab_type": "text"
      },
      "source": [
        "<a href=\"https://colab.research.google.com/github/swetha12g/Phython-For-AI/blob/Develop/Day_03_Control_Structures_%E2%80%93_IF_ELSE_and_using_AI.ipynb\" target=\"_parent\"><img src=\"https://colab.research.google.com/assets/colab-badge.svg\" alt=\"Open In Colab\"/></a>"
      ]
    },
    {
      "cell_type": "code",
      "execution_count": null,
      "metadata": {
        "id": "PY2rwf8Wnf6L"
      },
      "outputs": [],
      "source": [
        "ticket_price = 90\n",
        "wallet_size = 100"
      ]
    },
    {
      "cell_type": "code",
      "source": [
        "# ctrl + Enter = run\n",
        "# comparision <, >, <=, >=, ==, !="
      ],
      "metadata": {
        "id": "1LswJmien-O0"
      },
      "execution_count": null,
      "outputs": []
    },
    {
      "cell_type": "code",
      "source": [
        "if ticket_price <= wallet_size:\n",
        "  print(\"Hurray i can see the movie\")\n",
        "else:\n",
        "  print(\"I can't see the movie\")"
      ],
      "metadata": {
        "colab": {
          "base_uri": "https://localhost:8080/"
        },
        "id": "MfMpLBrgn-Fm",
        "outputId": "db10a428-263a-4fa0-90d5-23ff9e8000ab"
      },
      "execution_count": null,
      "outputs": [
        {
          "output_type": "stream",
          "name": "stdout",
          "text": [
            "Hurray i can see the movie\n"
          ]
        }
      ]
    },
    {
      "cell_type": "code",
      "source": [
        "# if(condition):\n",
        "#   # to do\n",
        "# else:\n",
        "#   # to do"
      ],
      "metadata": {
        "id": "Fzx3Ixpyn995"
      },
      "execution_count": null,
      "outputs": []
    },
    {
      "cell_type": "code",
      "source": [
        "marks = 90\n",
        "\n",
        "# 90+ A+\n",
        "# 80+ A\n",
        "# 70+ B+\n",
        "# 60+ B\n",
        "# 60- Fail"
      ],
      "metadata": {
        "id": "fxs09UDnpVXX"
      },
      "execution_count": null,
      "outputs": []
    },
    {
      "cell_type": "code",
      "source": [
        "marks = 90\n",
        "\n",
        "if marks >= 90:\n",
        "  print(\"A+\")\n",
        "elif marks >= 80:\n",
        "  print(\"A\")\n",
        "elif marks >= 70:\n",
        "  print(\"B+\")\n",
        "elif marks >= 60:\n",
        "  print(\"B\")\n",
        "else:\n",
        "  print(\"Fail\")"
      ],
      "metadata": {
        "colab": {
          "base_uri": "https://localhost:8080/"
        },
        "id": "9bJntL57n91b",
        "outputId": "a3fc6707-0f0a-49a5-a88f-15dc9db987f3"
      },
      "execution_count": null,
      "outputs": [
        {
          "output_type": "stream",
          "name": "stdout",
          "text": [
            "A+\n"
          ]
        }
      ]
    },
    {
      "cell_type": "code",
      "source": [],
      "metadata": {
        "id": "lOybwzNXn9jc"
      },
      "execution_count": null,
      "outputs": []
    }
  ]
}
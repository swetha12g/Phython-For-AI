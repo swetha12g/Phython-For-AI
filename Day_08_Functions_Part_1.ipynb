{
  "nbformat": 4,
  "nbformat_minor": 0,
  "metadata": {
    "colab": {
      "provenance": [],
      "authorship_tag": "ABX9TyN1cZaZl98NLogf7ViHVtl4",
      "include_colab_link": true
    },
    "kernelspec": {
      "name": "python3",
      "display_name": "Python 3"
    },
    "language_info": {
      "name": "python"
    }
  },
  "cells": [
    {
      "cell_type": "markdown",
      "metadata": {
        "id": "view-in-github",
        "colab_type": "text"
      },
      "source": [
        "<a href=\"https://colab.research.google.com/github/swetha12g/Phython-For-AI/blob/Feature/Day_08_Functions_Part_1.ipynb\" target=\"_parent\"><img src=\"https://colab.research.google.com/assets/colab-badge.svg\" alt=\"Open In Colab\"/></a>"
      ]
    },
    {
      "cell_type": "markdown",
      "source": [
        "## **Functions Basics**\n",
        "\n",
        "\n",
        "\n"
      ],
      "metadata": {
        "id": "9VF-QGVmgouz"
      }
    },
    {
      "cell_type": "code",
      "execution_count": null,
      "metadata": {
        "id": "7NVfaxOxUGfr"
      },
      "outputs": [],
      "source": [
        "#input, logic, output"
      ]
    },
    {
      "cell_type": "code",
      "source": [
        "print(\"Hello World!\")"
      ],
      "metadata": {
        "colab": {
          "base_uri": "https://localhost:8080/"
        },
        "id": "OLSUP6irhjcm",
        "outputId": "25e8e43e-a73f-4530-f5b8-66c69f93e617"
      },
      "execution_count": null,
      "outputs": [
        {
          "output_type": "stream",
          "name": "stdout",
          "text": [
            "Hello World!\n"
          ]
        }
      ]
    },
    {
      "cell_type": "markdown",
      "source": [
        "## **1. Defining a Function** **bold text**"
      ],
      "metadata": {
        "id": "lBRXqvPRhx5h"
      }
    },
    {
      "cell_type": "code",
      "source": [
        "def hello():\n",
        "  print(\"Hello World!\")"
      ],
      "metadata": {
        "id": "1wOxbd5Dhvaj"
      },
      "execution_count": null,
      "outputs": []
    },
    {
      "cell_type": "markdown",
      "source": [
        "## **2. Calling a Funtion**"
      ],
      "metadata": {
        "id": "P2-AhI7Liksk"
      }
    },
    {
      "cell_type": "code",
      "source": [
        "hello()"
      ],
      "metadata": {
        "colab": {
          "base_uri": "https://localhost:8080/"
        },
        "id": "TjXs_W6Ph4aO",
        "outputId": "f581ea4e-4b9b-42cd-921c-c371df57c18a"
      },
      "execution_count": null,
      "outputs": [
        {
          "output_type": "stream",
          "name": "stdout",
          "text": [
            "Hello World!\n"
          ]
        }
      ]
    },
    {
      "cell_type": "code",
      "source": [
        "# input - inside braces - no\n",
        "# logic - print\n",
        "# output - Hello World!"
      ],
      "metadata": {
        "id": "lN_6fo2Fh7gA"
      },
      "execution_count": null,
      "outputs": []
    },
    {
      "cell_type": "markdown",
      "source": [
        "## **3. Functions with Parameter/Params**"
      ],
      "metadata": {
        "id": "a0u0KhnQjoMb"
      }
    },
    {
      "cell_type": "code",
      "source": [
        "def hello(name):\n",
        "  print(f\"Hello {name}!\")"
      ],
      "metadata": {
        "id": "OE-G04n9iYnL"
      },
      "execution_count": null,
      "outputs": []
    },
    {
      "cell_type": "code",
      "source": [
        "hello (\"swetha\")"
      ],
      "metadata": {
        "colab": {
          "base_uri": "https://localhost:8080/"
        },
        "id": "KqN3P-Z1jFSn",
        "outputId": "fa94d8b1-dd9f-4d07-fde1-ec7a943676e8"
      },
      "execution_count": null,
      "outputs": [
        {
          "output_type": "stream",
          "name": "stdout",
          "text": [
            "Hello swetha!\n"
          ]
        }
      ]
    },
    {
      "cell_type": "code",
      "source": [
        "hello (\"sukriti\")"
      ],
      "metadata": {
        "colab": {
          "base_uri": "https://localhost:8080/"
        },
        "id": "vkbzpaAwjPxB",
        "outputId": "7e783494-792b-4894-cd7d-7004d5dea2ec"
      },
      "execution_count": null,
      "outputs": [
        {
          "output_type": "stream",
          "name": "stdout",
          "text": [
            "Hello sukriti!\n"
          ]
        }
      ]
    },
    {
      "cell_type": "code",
      "source": [
        "hello (\"phani\")"
      ],
      "metadata": {
        "colab": {
          "base_uri": "https://localhost:8080/"
        },
        "id": "HxqdiaLAjeWZ",
        "outputId": "a130036d-f812-4160-915c-9dabf0238aeb"
      },
      "execution_count": null,
      "outputs": [
        {
          "output_type": "stream",
          "name": "stdout",
          "text": [
            "Hello phani!\n"
          ]
        }
      ]
    },
    {
      "cell_type": "code",
      "source": [
        "name = \"swetha\"\n",
        "f\"string {name}!\""
      ],
      "metadata": {
        "colab": {
          "base_uri": "https://localhost:8080/",
          "height": 36
        },
        "id": "qAfHg2kjjhz4",
        "outputId": "e6cadb2a-4a3f-4368-ea4e-036d3209c2f9"
      },
      "execution_count": null,
      "outputs": [
        {
          "output_type": "execute_result",
          "data": {
            "text/plain": [
              "'string swetha!'"
            ],
            "application/vnd.google.colaboratory.intrinsic+json": {
              "type": "string"
            }
          },
          "metadata": {},
          "execution_count": 11
        }
      ]
    },
    {
      "cell_type": "code",
      "source": [
        "artist = \"swetha\"\n",
        "f\"string {artist}!\""
      ],
      "metadata": {
        "colab": {
          "base_uri": "https://localhost:8080/",
          "height": 36
        },
        "id": "pk54gCdFkeH5",
        "outputId": "7922d8ef-f813-4828-d6de-4e22ae67e30d"
      },
      "execution_count": null,
      "outputs": [
        {
          "output_type": "execute_result",
          "data": {
            "text/plain": [
              "'string swetha!'"
            ],
            "application/vnd.google.colaboratory.intrinsic+json": {
              "type": "string"
            }
          },
          "metadata": {},
          "execution_count": 12
        }
      ]
    },
    {
      "cell_type": "markdown",
      "source": [
        "## **f Strings**"
      ],
      "metadata": {
        "id": "wjHrSIK4m_cx"
      }
    },
    {
      "cell_type": "code",
      "source": [
        "country = \"India\"\n",
        "capital = \"New Delhi\"\n",
        "print(f\"{capital} is the capital of {country}\")"
      ],
      "metadata": {
        "colab": {
          "base_uri": "https://localhost:8080/"
        },
        "id": "x29KvseEkrlA",
        "outputId": "c9abd5de-dcb1-49a6-db83-e7a5bf0b997f"
      },
      "execution_count": null,
      "outputs": [
        {
          "output_type": "stream",
          "name": "stdout",
          "text": [
            "New Delhi is the capital of India\n"
          ]
        }
      ]
    },
    {
      "cell_type": "markdown",
      "source": [
        "## **4. Funtion with Return Value**"
      ],
      "metadata": {
        "id": "ty8arZdYpq1m"
      }
    },
    {
      "cell_type": "code",
      "source": [
        "# two numbers = adding\n",
        "def add_numbers(x, y):\n",
        "  print(x+y)"
      ],
      "metadata": {
        "id": "8cAp46Uum3bq"
      },
      "execution_count": null,
      "outputs": []
    },
    {
      "cell_type": "code",
      "source": [
        "add_numbers(4, 8)"
      ],
      "metadata": {
        "colab": {
          "base_uri": "https://localhost:8080/"
        },
        "id": "S-DSYVSOoLVe",
        "outputId": "4f8e9637-00ea-4acf-9420-6def73746eb1"
      },
      "execution_count": null,
      "outputs": [
        {
          "output_type": "stream",
          "name": "stdout",
          "text": [
            "12\n"
          ]
        }
      ]
    },
    {
      "cell_type": "code",
      "source": [
        "add_numbers(6, 12)"
      ],
      "metadata": {
        "colab": {
          "base_uri": "https://localhost:8080/"
        },
        "id": "jnf7qp8JoOud",
        "outputId": "b5886cf8-620f-452b-f14f-6402c204cb23"
      },
      "execution_count": null,
      "outputs": [
        {
          "output_type": "stream",
          "name": "stdout",
          "text": [
            "18\n"
          ]
        }
      ]
    },
    {
      "cell_type": "code",
      "source": [
        "v = add_numbers(4, 8)"
      ],
      "metadata": {
        "id": "oJYhUd_xoc0U"
      },
      "execution_count": null,
      "outputs": []
    },
    {
      "cell_type": "code",
      "source": [
        "v"
      ],
      "metadata": {
        "colab": {
          "base_uri": "https://localhost:8080/"
        },
        "id": "jDbCYtAqo5Mv",
        "outputId": "832d276f-39ee-43db-9cda-48563540f201"
      },
      "execution_count": null,
      "outputs": [
        {
          "output_type": "execute_result",
          "data": {
            "text/plain": [
              "12"
            ]
          },
          "metadata": {},
          "execution_count": 31
        }
      ]
    },
    {
      "cell_type": "code",
      "source": [
        "def add_numbers(x, y):\n",
        "  return x+y"
      ],
      "metadata": {
        "id": "IDeB5j_Ro6tW"
      },
      "execution_count": null,
      "outputs": []
    },
    {
      "cell_type": "code",
      "source": [
        "add_numbers(4, 8)"
      ],
      "metadata": {
        "colab": {
          "base_uri": "https://localhost:8080/"
        },
        "id": "Q917VtaqpF25",
        "outputId": "a5de905d-ad8a-4e47-cfc8-fec320723564"
      },
      "execution_count": null,
      "outputs": [
        {
          "output_type": "execute_result",
          "data": {
            "text/plain": [
              "12"
            ]
          },
          "metadata": {},
          "execution_count": 38
        }
      ]
    },
    {
      "cell_type": "code",
      "source": [
        "v = add_numbers(4, 8)"
      ],
      "metadata": {
        "id": "l8eOQj0zpIfV"
      },
      "execution_count": null,
      "outputs": []
    },
    {
      "cell_type": "code",
      "source": [
        "v"
      ],
      "metadata": {
        "colab": {
          "base_uri": "https://localhost:8080/"
        },
        "id": "FcDaZlDnpK_S",
        "outputId": "84449c91-e98f-45e2-c9df-e07d4e4ed9e2"
      },
      "execution_count": null,
      "outputs": [
        {
          "output_type": "execute_result",
          "data": {
            "text/plain": [
              "12"
            ]
          },
          "metadata": {},
          "execution_count": 40
        }
      ]
    },
    {
      "cell_type": "code",
      "source": [
        "add_numbers(6, 12)"
      ],
      "metadata": {
        "colab": {
          "base_uri": "https://localhost:8080/"
        },
        "id": "QClhqh7ypMGN",
        "outputId": "08075ae9-d288-4406-b084-239518bba8f5"
      },
      "execution_count": null,
      "outputs": [
        {
          "output_type": "execute_result",
          "data": {
            "text/plain": [
              "18"
            ]
          },
          "metadata": {},
          "execution_count": 41
        }
      ]
    },
    {
      "cell_type": "code",
      "source": [
        "v = add_numbers(6, 12)"
      ],
      "metadata": {
        "id": "x-xP1SAypdUb"
      },
      "execution_count": null,
      "outputs": []
    },
    {
      "cell_type": "code",
      "source": [
        "v"
      ],
      "metadata": {
        "colab": {
          "base_uri": "https://localhost:8080/"
        },
        "id": "YdEYbv4QpgBe",
        "outputId": "cfa0c356-6986-4e0a-9e5f-4c004430fbdc"
      },
      "execution_count": null,
      "outputs": [
        {
          "output_type": "execute_result",
          "data": {
            "text/plain": [
              "18"
            ]
          },
          "metadata": {},
          "execution_count": 43
        }
      ]
    },
    {
      "cell_type": "code",
      "source": [],
      "metadata": {
        "id": "6ZwbgpeBpghh"
      },
      "execution_count": null,
      "outputs": []
    }
  ]
}
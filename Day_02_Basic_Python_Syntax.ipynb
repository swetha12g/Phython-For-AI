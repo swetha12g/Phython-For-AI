{
  "nbformat": 4,
  "nbformat_minor": 0,
  "metadata": {
    "colab": {
      "provenance": [],
      "authorship_tag": "ABX9TyMLSjte+6bnX87jhPhtrvkj",
      "include_colab_link": true
    },
    "kernelspec": {
      "name": "python3",
      "display_name": "Python 3"
    },
    "language_info": {
      "name": "python"
    }
  },
  "cells": [
    {
      "cell_type": "markdown",
      "metadata": {
        "id": "view-in-github",
        "colab_type": "text"
      },
      "source": [
        "<a href=\"https://colab.research.google.com/github/swetha12g/Phython-For-AI/blob/Develop/Day_02_Basic_Python_Syntax.ipynb\" target=\"_parent\"><img src=\"https://colab.research.google.com/assets/colab-badge.svg\" alt=\"Open In Colab\"/></a>"
      ]
    },
    {
      "cell_type": "code",
      "execution_count": null,
      "metadata": {
        "colab": {
          "base_uri": "https://localhost:8080/"
        },
        "id": "Uk8CNQMMTV4_",
        "outputId": "19d042cf-437e-4574-d8e7-93084efb41c7"
      },
      "outputs": [
        {
          "output_type": "execute_result",
          "data": {
            "text/plain": [
              "156"
            ]
          },
          "metadata": {},
          "execution_count": 1
        }
      ],
      "source": [
        "100+20+36\n"
      ]
    },
    {
      "cell_type": "code",
      "source": [
        "# Variables"
      ],
      "metadata": {
        "id": "5EyO_B5RmdRp"
      },
      "execution_count": null,
      "outputs": []
    },
    {
      "cell_type": "code",
      "source": [
        "virat = 100\n",
        "rahul = 63\n",
        "rohit = 45\n"
      ],
      "metadata": {
        "id": "xzvZpiPFTodV"
      },
      "execution_count": null,
      "outputs": []
    },
    {
      "cell_type": "code",
      "source": [
        "virat + rahul + rohit\n"
      ],
      "metadata": {
        "colab": {
          "base_uri": "https://localhost:8080/"
        },
        "id": "b1C1wg3RTooI",
        "outputId": "4d3843ec-8281-4f80-93d8-fe07c264e6f6"
      },
      "execution_count": null,
      "outputs": [
        {
          "output_type": "execute_result",
          "data": {
            "text/plain": [
              "208"
            ]
          },
          "metadata": {},
          "execution_count": 6
        }
      ]
    },
    {
      "cell_type": "code",
      "source": [
        "x1, x2, x3 = 12, 35, 91"
      ],
      "metadata": {
        "id": "ChAPbPs8Tovm"
      },
      "execution_count": null,
      "outputs": []
    },
    {
      "cell_type": "code",
      "source": [
        "# int - integer - -inf ...... 0 ....... inf\n",
        "# float - floating - 0.1, 0.5, 10.9, 46.84\n",
        "# str - string - \"a\", 'b', \"number\", 'bus', \"i am in the bus\", \"#\",'@'"
      ],
      "metadata": {
        "id": "2lqoErSMTo3n"
      },
      "execution_count": null,
      "outputs": []
    },
    {
      "cell_type": "code",
      "source": [
        "# ctrl + a = Select All\n",
        "# ctrl + / = comment all"
      ],
      "metadata": {
        "id": "tY3wbQ0vl7HK"
      },
      "execution_count": null,
      "outputs": []
    },
    {
      "cell_type": "code",
      "source": [
        "a, b = 5, 12"
      ],
      "metadata": {
        "id": "56POIUPdl6ss"
      },
      "execution_count": null,
      "outputs": []
    },
    {
      "cell_type": "code",
      "source": [
        "c = a + b"
      ],
      "metadata": {
        "id": "uwJ0WvgwnJ6J"
      },
      "execution_count": null,
      "outputs": []
    }
  ]
}